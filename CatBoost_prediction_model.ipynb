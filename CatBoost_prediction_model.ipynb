{
  "cells": [
    {
      "cell_type": "code",
      "execution_count": null,
      "metadata": {
        "id": "Q134btR28xMP"
      },
      "outputs": [],
      "source": [
        "!pip install catboost pandas scikit-learn matplotlib\n"
      ]
    },
    {
      "cell_type": "code",
      "execution_count": 1,
      "metadata": {
        "colab": {
          "base_uri": "https://localhost:8080/"
        },
        "id": "actIBVfr92uL",
        "outputId": "ed46c2c6-d587-4706-9d18-4539f8113e4c"
      },
      "outputs": [
        {
          "name": "stdout",
          "output_type": "stream",
          "text": [
            "1.26.4\n",
            "['test']\n"
          ]
        }
      ],
      "source": [
        "import numpy as np\n",
        "print(np.__version__)\n",
        "print(np.char.lower(['TEST']))\n"
      ]
    },
    {
      "cell_type": "code",
      "execution_count": null,
      "metadata": {
        "colab": {
          "base_uri": "https://localhost:8080/"
        },
        "id": "YyfhzRjMIXpm",
        "outputId": "4f0363d7-d7fb-47a0-cd9d-98c74cf30929"
      },
      "outputs": [],
      "source": [
        "!pip install imbalanced-learn\n"
      ]
    },
    {
      "cell_type": "code",
      "execution_count": 6,
      "metadata": {
        "colab": {
          "base_uri": "https://localhost:8080/"
        },
        "id": "ekVIGq_PMBrn",
        "outputId": "f916116a-5128-49c0-dea0-98ec478c9370"
      },
      "outputs": [
        {
          "name": "stdout",
          "output_type": "stream",
          "text": [
            "Confusion Matrix:\n",
            " [[46  7]\n",
            " [ 5  2]]\n",
            "\n",
            "Classification Report:\n",
            "               precision    recall  f1-score   support\n",
            "\n",
            "           0       0.90      0.87      0.88        53\n",
            "           1       0.22      0.29      0.25         7\n",
            "\n",
            "    accuracy                           0.80        60\n",
            "   macro avg       0.56      0.58      0.57        60\n",
            "weighted avg       0.82      0.80      0.81        60\n",
            "\n",
            "\n",
            "ROC AUC Score: 0.6064690026954178\n",
            "\n",
            "Simulated Treatment Outcomes:\n",
            "\n",
            "   SURGERY  RADIOTHERAPY  CHEMOTHERAPY  Recurrence Probability  \\\n",
            "0        0             0             1                   0.164   \n",
            "1        0             1             0                   0.320   \n",
            "2        0             1             1                   0.154   \n",
            "3        1             0             0                   0.070   \n",
            "4        1             0             1                   0.042   \n",
            "5        1             1             0                   0.076   \n",
            "6        1             1             1                   0.036   \n",
            "\n",
            "   Estimated 5-Year Survival  \n",
            "0                      0.836  \n",
            "1                      0.680  \n",
            "2                      0.846  \n",
            "3                      0.930  \n",
            "4                      0.958  \n",
            "5                      0.924  \n",
            "6                      0.964  \n"
          ]
        }
      ],
      "source": [
        "import pandas as pd\n",
        "from imblearn.over_sampling import SMOTE\n",
        "from sklearn.model_selection import train_test_split\n",
        "from catboost import CatBoostClassifier\n",
        "from sklearn.metrics import classification_report, confusion_matrix, roc_auc_score\n",
        "from itertools import product\n",
        "\n",
        "df = pd.read_csv(\"Preprocessed_data.csv\")\n",
        "df.drop(columns=[\"Unnamed: 0\"], inplace=True, errors=\"ignore\")\n",
        "\n",
        "y = df[\"RECURRENCE\"]\n",
        "X = df.drop(columns=[\"RECURRENCE\"])\n",
        "\n",
        "X_train, X_test, y_train, y_test = train_test_split(\n",
        "    X, y, test_size=0.2, stratify=y, random_state=42\n",
        ")\n",
        "\n",
        "smote = SMOTE(random_state=42)\n",
        "X_resampled, y_resampled = smote.fit_resample(X_train, y_train)\n",
        "resampled_df = pd.DataFrame(X_resampled, columns=X.columns)\n",
        "resampled_df[\"RECURRENCE\"] = y_resampled.values\n",
        "resampled_df.to_csv(\"SMOTE_Resampled_Data.csv\", index=False)\n",
        "\n",
        "model = CatBoostClassifier(eval_metric=\"AUC\", verbose=0, random_state=42)\n",
        "model.fit(X_resampled, y_resampled)\n",
        "\n",
        "y_pred = model.predict(X_test)\n",
        "y_proba = model.predict_proba(X_test)[:, 1]\n",
        "\n",
        "print(\"Confusion Matrix:\\n\", confusion_matrix(y_test, y_pred))\n",
        "print(\"\\nClassification Report:\\n\", classification_report(y_test, y_pred))\n",
        "print(\"\\nROC AUC Score:\", roc_auc_score(y_test, y_proba))\n",
        "\n",
        "def generate_treatment_combos():\n",
        "    return [\n",
        "        {\"SURGERY\": s, \"RADIOTHERAPY\": r, \"CHEMOTHERAPY\": c}\n",
        "        for s, r, c in product([0, 1], repeat=3)\n",
        "        if not (s == r == c == 0)\n",
        "    ]\n",
        "\n",
        "patient = X_test.iloc[0].copy()\n",
        "non_treatments = [\"SURGERY\", \"RADIOTHERAPY\", \"CHEMOTHERAPY\"]\n",
        "patient_info = {col: patient[col] for col in X.columns if col not in non_treatments}\n",
        "\n",
        "results = []\n",
        "for combo in generate_treatment_combos():\n",
        "    test_case = patient_info.copy()\n",
        "    test_case.update(combo)\n",
        "    df_input = pd.DataFrame([test_case])\n",
        "    prob = model.predict_proba(df_input)[0][1]\n",
        "    results.append({\n",
        "        **combo,\n",
        "        \"Recurrence Probability\": round(prob, 3),\n",
        "        \"Estimated 5-Year Survival\": round(1 - prob, 3)\n",
        "    })\n",
        "\n",
        "results_df = pd.DataFrame(results)\n",
        "print(\"\\nSimulated Treatment Outcomes:\\n\")\n",
        "print(results_df)\n"
      ]
    },
    {
      "cell_type": "code",
      "execution_count": null,
      "metadata": {
        "colab": {
          "base_uri": "https://localhost:8080/",
          "height": 1000
        },
        "id": "A38-8jVPPVni",
        "outputId": "5c4619f0-560a-4cc7-d3d2-038d2d6c9eaf"
      },
      "outputs": [
        {
          "name": "stdout",
          "output_type": "stream",
          "text": [
            "0:\ttotal: 2.35ms\tremaining: 4.69s\n",
            "100:\ttotal: 140ms\tremaining: 2.63s\n",
            "200:\ttotal: 281ms\tremaining: 2.51s\n",
            "300:\ttotal: 480ms\tremaining: 2.71s\n",
            "400:\ttotal: 640ms\tremaining: 2.55s\n",
            "500:\ttotal: 813ms\tremaining: 2.43s\n",
            "600:\ttotal: 976ms\tremaining: 2.27s\n",
            "700:\ttotal: 1.13s\tremaining: 2.1s\n",
            "800:\ttotal: 1.29s\tremaining: 1.93s\n",
            "900:\ttotal: 1.45s\tremaining: 1.77s\n",
            "1000:\ttotal: 1.61s\tremaining: 1.6s\n",
            "1100:\ttotal: 1.78s\tremaining: 1.45s\n",
            "1200:\ttotal: 1.96s\tremaining: 1.3s\n",
            "1300:\ttotal: 2.13s\tremaining: 1.14s\n",
            "1400:\ttotal: 2.3s\tremaining: 982ms\n",
            "1500:\ttotal: 2.46s\tremaining: 820ms\n",
            "1600:\ttotal: 2.64s\tremaining: 658ms\n",
            "1700:\ttotal: 2.96s\tremaining: 521ms\n",
            "1800:\ttotal: 3.25s\tremaining: 359ms\n",
            "1900:\ttotal: 3.56s\tremaining: 185ms\n",
            "1999:\ttotal: 3.83s\tremaining: 0us\n"
          ]
        },
        {
          "data": {
            "image/png": "[encoded data removed]",
            "text/plain": [
              "<Figure size 600x500 with 1 Axes>"
            ]
          },
          "metadata": {},
          "output_type": "display_data"
        },
        {
          "name": "stdout",
          "output_type": "stream",
          "text": [
            "\n",
            "Simulated Treatment Outcomes:\n",
            "   SURGERY  RADIOTHERAPY  CHEMOTHERAPY  Recurrence Probability  \\\n",
            "0        0             0             1                   0.058   \n",
            "1        0             1             0                   0.897   \n",
            "2        0             1             1                   0.065   \n",
            "3        1             0             0                   0.121   \n",
            "4        1             0             1                   0.004   \n",
            "5        1             1             0                   0.240   \n",
            "6        1             1             1                   0.003   \n",
            "\n",
            "   Estimated 5-Year Survival  \n",
            "0                      0.942  \n",
            "1                      0.103  \n",
            "2                      0.935  \n",
            "3                      0.879  \n",
            "4                      0.996  \n",
            "5                      0.760  \n",
            "6                      0.997  \n",
            "\n",
            "SMOTE-resampled training data saved as 'SMOTE_Stratifed_Train.csv'\n"
          ]
        }
      ],
      "source": [
        "import pandas as pd\n",
        "from sklearn.model_selection import train_test_split\n",
        "from imblearn.over_sampling import SMOTE\n",
        "from catboost import CatBoostClassifier\n",
        "from sklearn.metrics import classification_report, confusion_matrix, roc_auc_score\n",
        "from itertools import product\n",
        "import matplotlib.pyplot as plt\n",
        "import seaborn as sns\n",
        "\n",
        "df = pd.read_csv(\"Preprocessed_data.csv\")\n",
        "df.drop(columns=[\"Unnamed: 0\"], inplace=True, errors=\"ignore\")\n",
        "\n",
        "df_class_0 = df[df[\"RECURRENCE\"] == 0]\n",
        "df_class_1 = df[df[\"RECURRENCE\"] == 1]\n",
        "\n",
        "train_0, test_0 = train_test_split(df_class_0, test_size=0.2, random_state=42)\n",
        "train_1, test_1 = train_test_split(df_class_1, test_size=0.2, random_state=42)\n",
        "\n",
        "train_df = pd.concat([train_0, train_1]).sample(frac=1, random_state=42)\n",
        "test_df = pd.concat([test_0, test_1]).sample(frac=1, random_state=42)\n",
        "\n",
        "X_train = train_df.drop(columns=[\"RECURRENCE\"])\n",
        "y_train = train_df[\"RECURRENCE\"]\n",
        "X_test = test_df.drop(columns=[\"RECURRENCE\"])\n",
        "y_test = test_df[\"RECURRENCE\"]\n",
        "\n",
        "smote = SMOTE(random_state=42)\n",
        "X_resampled, y_resampled = smote.fit_resample(X_train, y_train)\n",
        "\n",
        "#  Deep CatBoost Model\n",
        "model = CatBoostClassifier(\n",
        "    depth=8,\n",
        "    learning_rate=0.02,\n",
        "    iterations=2000,\n",
        "    l2_leaf_reg=5,\n",
        "    class_weights=[1, 5],  # Heavier penalty on missing recurrence\n",
        "    eval_metric=\"AUC\",\n",
        "    random_state=42,\n",
        "    verbose=100\n",
        ")\n",
        "model.fit(X_resampled, y_resampled)\n",
        "\n",
        "y_pred = model.predict(X_test)\n",
        "y_proba = model.predict_proba(X_test)[:, 1]\n",
        "\n",
        "cm = confusion_matrix(y_test, y_pred)\n",
        "labels = ['True Negative','False Positive','False Negative','True Positive']\n",
        "cm_values = cm.reshape(-1)\n",
        "\n",
        "plt.figure(figsize=(6,5))\n",
        "sns.heatmap(cm, annot=True, fmt='d', cmap='Blues', cbar=False,\n",
        "            xticklabels=['Predicted 0','Predicted 1'],\n",
        "            yticklabels=['Actual 0','Actual 1'])\n",
        "for i, label in enumerate(labels):\n",
        "    row, col = divmod(i, 2)\n",
        "    plt.text(col + 0.05, row + 0.6, label, color='black', fontsize=10)\n",
        "\n",
        "plt.title('Confusion Matrix with Labels')\n",
        "plt.xlabel('Predicted Label')\n",
        "plt.ylabel('True Label')\n",
        "plt.tight_layout()\n",
        "plt.show()\n",
        "\n",
        "\n",
        "def generate_treatment_combos():\n",
        "    return [\n",
        "        {\"SURGERY\": s, \"RADIOTHERAPY\": r, \"CHEMOTHERAPY\": c}\n",
        "        for s, r, c in product([0, 1], repeat=3)\n",
        "        if not (s == r == c == 0)\n",
        "    ]\n",
        "\n",
        "patient = X_test.iloc[0].copy()\n",
        "non_treatment_cols = [\"SURGERY\", \"RADIOTHERAPY\", \"CHEMOTHERAPY\"]\n",
        "patient_info = {col: patient[col] for col in X_train.columns if col not in non_treatment_cols}\n",
        "\n",
        "results = []\n",
        "for combo in generate_treatment_combos():\n",
        "    input_data = patient_info.copy()\n",
        "    input_data.update(combo)\n",
        "    df_input = pd.DataFrame([input_data])\n",
        "    prob = model.predict_proba(df_input)[0][1]\n",
        "    results.append({\n",
        "        **combo,\n",
        "        \"Recurrence Probability\": round(prob, 3),\n",
        "        \"Estimated 5-Year Survival\": round(1 - prob, 3)\n",
        "    })\n",
        "\n",
        "results_df = pd.DataFrame(results)\n",
        "print(\"\\nSimulated Treatment Outcomes:\")\n",
        "print(results_df)\n",
        "\n",
        "resampled_df = pd.DataFrame(X_resampled, columns=X_train.columns)\n",
        "resampled_df[\"RECURRENCE\"] = y_resampled.values\n",
        "resampled_df.to_csv(\"SMOTE_Stratifed_Train.csv\", index=False)\n",
        "print(\"\\nSMOTE-resampled training data saved as 'SMOTE_Stratifed_Train.csv'\")\n"
      ]
    },
    {
      "cell_type": "code",
      "execution_count": 9,
      "metadata": {
        "colab": {
          "base_uri": "https://localhost:8080/"
        },
        "id": "a6OmFqZ7SXfD",
        "outputId": "3de71a43-2c6c-46e3-a686-03ee3de50845"
      },
      "outputs": [
        {
          "name": "stdout",
          "output_type": "stream",
          "text": [
            "Confusion Matrix:\n",
            " [[45  8]\n",
            " [ 6  2]]\n",
            "\n",
            "Classification Report:\n",
            "               precision    recall  f1-score   support\n",
            "\n",
            "           0       0.88      0.85      0.87        53\n",
            "           1       0.20      0.25      0.22         8\n",
            "\n",
            "    accuracy                           0.77        61\n",
            "   macro avg       0.54      0.55      0.54        61\n",
            "weighted avg       0.79      0.77      0.78        61\n",
            "\n",
            "\n",
            "ROC AUC Score: 0.6509433962264151\n"
          ]
        }
      ],
      "source": [
        "print(\"Confusion Matrix:\\n\", confusion_matrix(y_test, y_pred))\n",
        "print(\"\\nClassification Report:\\n\", classification_report(y_test, y_pred))\n",
        "print(\"\\nROC AUC Score:\", roc_auc_score(y_test, y_proba))"
      ]
    }
  ],
  "metadata": {
    "accelerator": "GPU",
    "colab": {
      "gpuType": "T4",
      "provenance": []
    },
    "kernelspec": {
      "display_name": "Python 3",
      "name": "python3"
    },
    "language_info": {
      "name": "python"
    }
  },
  "nbformat": 4,
  "nbformat_minor": 0
}
